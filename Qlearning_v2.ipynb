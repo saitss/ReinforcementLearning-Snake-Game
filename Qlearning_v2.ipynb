{
 "cells": [
  {
   "cell_type": "code",
   "execution_count": 4,
   "metadata": {},
   "outputs": [],
   "source": [
    "import numpy as np\n",
    "import tensorflow as tf"
   ]
  },
  {
   "cell_type": "code",
   "execution_count": 5,
   "metadata": {},
   "outputs": [],
   "source": [
    "mnist = tf.keras.datasets.mnist\n",
    "\n",
    "(x_train, y_train), (x_test, y_test) = mnist.load_data()\n",
    "x_train, x_test = x_train / 255.0, x_test / 255.0"
   ]
  },
  {
   "cell_type": "code",
   "execution_count": 6,
   "metadata": {},
   "outputs": [],
   "source": [
    "def create_model(shape,output):\n",
    "\n",
    "    model = tf.keras.models.Sequential([\n",
    "    tf.keras.layers.Conv2D(filters=64,kernel_size=(3,3),strides=(1,1),activation=\"relu\",input_shape=shape),\n",
    "    tf.keras.layers.MaxPool2D(pool_size=(2, 2), strides=(1,1), padding='valid'),\n",
    "    tf.keras.layers.Conv2D(filters=64,kernel_size=(1,1),strides=(1,1),activation=\"relu\"),\n",
    "    tf.keras.layers.MaxPool2D(pool_size=(2, 2), strides=(1,1), padding='valid'),\n",
    "    tf.keras.layers.Flatten(),\n",
    "    tf.keras.layers.Dense(256,activation='relu'),\n",
    "    tf.keras.layers.Dense(output),\n",
    "    \n",
    "    ])\n",
    "    \n",
    "    loss_fn =tf.keras.losses.MeanSquaredError()\n",
    "    model.compile(optimizer=\"adam\",\n",
    "              loss=loss_fn,\n",
    "              metrics=['accuracy'])\n",
    "\n",
    "    return model\n",
    "\n"
   ]
  },
  {
   "cell_type": "code",
   "execution_count": 7,
   "metadata": {},
   "outputs": [],
   "source": [
    "def grad_des(y_hat,y,model):\n",
    "    model.fit(np.array([y_hat]), np.reshape(y,(1,4)) ,verbose=0)\n",
    "def forward_prop(state,model):\n",
    "    predictions = model(np.array([state])).numpy()\n",
    "    return predictions"
   ]
  },
  {
   "cell_type": "code",
   "execution_count": 8,
   "metadata": {},
   "outputs": [],
   "source": [
    "def argmax(q_values):\n",
    "    return np.argmax(q_values)"
   ]
  },
  {
   "cell_type": "code",
   "execution_count": 18,
   "metadata": {},
   "outputs": [],
   "source": [
    "class Qlearning_v2():\n",
    "    def __init__(self):\n",
    "        self.epsilon=None\n",
    "        self.gamma=None\n",
    "        self.input_shape=None\n",
    "        self.num_actions=None\n",
    "        self.models=None\n",
    "        self.last_action = None\n",
    "        self.previous_state = None\n",
    "        self.epsilon_decay=None\n",
    "        self.min_epsilon=None\n",
    "        self.hunger=None\n",
    "        self.hunger_capacity=None\n",
    "        self.action_values=None\n",
    "    def initilize(self,info):\n",
    "        self.hunger_capacity=info.get(\"hunger\", 50)\n",
    "        self.epsilon=info.get(\"epsilon\",0.1)\n",
    "        self.gamma=info.get(\"gamma\",1)\n",
    "        self.input_shape=info.get(\"input_shape\",(10,10,1))\n",
    "        self.num_actions=info.get(\"num_actions\",4)\n",
    "        self.epsilon_decay=info.get(\"epsilon_decay\",10**-5)\n",
    "        self.min_epsilon=info.get(\"min_epsilon\",0.001)\n",
    "        self.hunger=0\n",
    "        self.model=create_model(self.input_shape,self.num_actions)\n",
    "        \n",
    "    def select_action(self, state):\n",
    "        chosen_action = None\n",
    "        cant_go=self.Cant_Go()\n",
    "        action_values=forward_prop(state,self.model)\n",
    "        action_values=action_values[0]\n",
    "        tmp=action_values[cant_go]\n",
    "        if self.last_action==None:\n",
    "            p=[1/4,1/4,1/4,1/4]\n",
    "        else :\n",
    "            p=[1/3,1/3,1/3,1/3]\n",
    "            p[cant_go]=0\n",
    "            action_values[cant_go]=float(\"-inf\")\n",
    "        updata_value=max(action_values)\n",
    "        save_epsilon=self.epsilon\n",
    "        if(self.hunger>self.hunger_capacity):\n",
    "            self.epsilon=0.2\n",
    "            \n",
    "        if np.random.random() > self.epsilon: \n",
    "            chosen_action = argmax(action_values)\n",
    "        else:\n",
    "            chosen_action = np.random.choice(4,p=p)\n",
    "        self.epsilon=save_epsilon\n",
    "        self.epsilon-=self.epsilon_decay\n",
    "        self.epsilon=max(self.min_epsilon,self.epsilon)\n",
    "        self.hunger+=1\n",
    "        action_values[cant_go]=tmp\n",
    "        return chosen_action, action_values[chosen_action],action_values,updata_value\n",
    "    def start(self,state):\n",
    "        current_action , self.lastActionValue,action_values,updata_value= self.select_action(state)\n",
    "        self.last_action = current_action\n",
    "        self.previous_state = np.copy(state)\n",
    "        self.action_values=action_values\n",
    "        self.hunger=0\n",
    "        return self.last_action\n",
    "    \n",
    "    def step(self,reward,state):\n",
    "        if(reward==1):\n",
    "            self.hunger=0\n",
    "        current_action,action_value,action_values,updata_value=self.select_action(state)\n",
    "        y=reward+self.gamma*updata_value\n",
    "        self.action_values[self.last_action]=y\n",
    "        grad_des(self.previous_state,self.action_values,self.model)\n",
    "        self.last_action=current_action\n",
    "        self.previous_state=state\n",
    "        self.action_values=action_values\n",
    "        return self.last_action\n",
    "        \n",
    "    def end(self,reward):\n",
    "        y=reward\n",
    "        self.action_values[self.last_action]=y\n",
    "        grad_des(self.previous_state,self.action_values,self.model)\n",
    "        self.last_action=None\n",
    "    def Cant_Go(self):\n",
    "        if self.last_action==0:\n",
    "            return 1\n",
    "        if self.last_action==1:\n",
    "            return 0\n",
    "        if self.last_action==2:\n",
    "            return 3\n",
    "        if self.last_action==3:\n",
    "            return 2"
   ]
  },
  {
   "cell_type": "code",
   "execution_count": 19,
   "metadata": {},
   "outputs": [],
   "source": [
    "a=Qlearning_v2()"
   ]
  },
  {
   "cell_type": "code",
   "execution_count": 20,
   "metadata": {},
   "outputs": [],
   "source": [
    "a.initilize({})"
   ]
  },
  {
   "cell_type": "code",
   "execution_count": null,
   "metadata": {},
   "outputs": [],
   "source": []
  },
  {
   "cell_type": "code",
   "execution_count": null,
   "metadata": {},
   "outputs": [],
   "source": []
  },
  {
   "cell_type": "code",
   "execution_count": null,
   "metadata": {},
   "outputs": [],
   "source": []
  }
 ],
 "metadata": {
  "kernelspec": {
   "display_name": "Python 3",
   "language": "python",
   "name": "python3"
  },
  "language_info": {
   "codemirror_mode": {
    "name": "ipython",
    "version": 3
   },
   "file_extension": ".py",
   "mimetype": "text/x-python",
   "name": "python",
   "nbconvert_exporter": "python",
   "pygments_lexer": "ipython3",
   "version": "3.7.6"
  }
 },
 "nbformat": 4,
 "nbformat_minor": 4
}
