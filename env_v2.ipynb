{
 "cells": [
  {
   "cell_type": "code",
   "execution_count": 1,
   "metadata": {},
   "outputs": [
    {
     "name": "stdout",
     "output_type": "stream",
     "text": [
      "pygame 1.9.6\n",
      "Hello from the pygame community. https://www.pygame.org/contribute.html\n"
     ]
    }
   ],
   "source": [
    "import numpy as np\n",
    "import random\n",
    "import pygame\n",
    "import copy\n",
    "\n"
   ]
  },
  {
   "cell_type": "code",
   "execution_count": 45,
   "metadata": {},
   "outputs": [],
   "source": [
    "class environement:\n",
    "    \n",
    "    def __init__(self):\n",
    "        self.state=None\n",
    "        self.width=None\n",
    "        self.height=None\n",
    "        self.snake_list=[]\n",
    "        self.foodx=None\n",
    "        self.foody=None\n",
    "        self.distance=None\n",
    "        self.lastmove=None\n",
    "        self.score=0\n",
    "    def env_init(self,info={}):\n",
    "        self.width=info.get(\"width\",10)\n",
    "        self.height=info.get(\"height\",10)\n",
    "        self.state=np.zeros((self.width,self.height))\n",
    "    def spawnfood(self):\n",
    "        foodx=random.randint(0,self.width-1)\n",
    "        foody=random.randint(0,self.height-1)\n",
    "        for x in self.snake_list:\n",
    "            if(foodx==x[0] and foody==x[1]):\n",
    "                foodx,foody=self.spawnfood()\n",
    "        return foodx,foody\n",
    "    def Distance(self,snake_head,foodx,foody):\n",
    "        return (abs((snake_head[0]-foodx))+abs((snake_head[1]-foody)))\n",
    "    def arrange_state(self):\n",
    "        self.state=np.zeros((self.width,self.height))\n",
    "        for x,y ,in self.snake_list:\n",
    "            if(x==self.snake_list[-1][0] and y==self.snake_list[-1][1]):\n",
    "                self.state[x][y]=2\n",
    "            else:\n",
    "                self.state[x][y]=1\n",
    "        self.state[self.foodx][self.foody]=5\n",
    "\n",
    "        \n",
    "    def start(self):\n",
    "        self.snake_head=[int(self.width/2),int(self.height/2)]\n",
    "        self.snake_list=[]\n",
    "        a=[]\n",
    "        a.append(self.snake_head[0])\n",
    "        a.append(self.snake_head[1])\n",
    "        self.snake_list.append(a)\n",
    "        self.foodx,self.foody=self.spawnfood()\n",
    "        self.arrange_state()\n",
    "        self.distance=self.Distance(self.snake_head,self.foodx,self.foody)\n",
    "        self.lastmove=None\n",
    "        self.score=0\n",
    "        return self.state\n",
    "    def rew(self,reward):\n",
    "            if(reward==\"food\"):\n",
    "                return 10\n",
    "            elif(reward==\"death\"):\n",
    "                return -1\n",
    "            elif(reward==\"moveclose\"):\n",
    "                return 0\n",
    "            elif(reward==\"movefar\"):\n",
    "                return 0\n",
    "    def step(self,action):\n",
    "        #action 0:L 1:R 2:D 3:U:\n",
    "        action=self.canGo(action)\n",
    "        self.lastmove=action\n",
    "        return self.step_arrange(action)\n",
    "    def step_arrange(self,action):\n",
    "        if action==0:\n",
    "            index=1\n",
    "            incr=-1\n",
    "            side=self.height\n",
    "        elif action==1:\n",
    "            index=1\n",
    "            incr=1\n",
    "            side=self.height\n",
    "        elif action==2:\n",
    "            index=0\n",
    "            incr=-1\n",
    "            side=self.width\n",
    "        else :        \n",
    "            index=0\n",
    "            incr=1\n",
    "            side=self.width\n",
    "        self.snake_head[index]+=incr\n",
    "        a=[]\n",
    "        a.append(self.snake_head[0])\n",
    "        a.append(self.snake_head[1])\n",
    "        if(self.snake_head[0]==self.foodx and self.snake_head[1]==self.foody):\n",
    "            self.snake_list.append(a)\n",
    "            self.foodx,self.foody=self.spawnfood()\n",
    "            self.arrange_state()\n",
    "            self.score+=1\n",
    "            return self.rew(\"food\"),self.state,False,self.score\n",
    "        if self.snake_head[index]<0 or self.snake_head[index]>=side:\n",
    "            #self.start()\n",
    "            return self.rew(\"death\"),self.state,True,self.score\n",
    "        for x in self.snake_list[1:]:\n",
    "            if x == self.snake_head:\n",
    "                #self.start()\n",
    "                return self.rew(\"death\"),self.state,True,self.score\n",
    "        del self.snake_list[0]\n",
    "        self.snake_list.append(a)\n",
    "        self.arrange_state()\n",
    "        new_distance=self.Distance(self.snake_head,self.foodx,self.foody)\n",
    "        if new_distance>=self.distance :\n",
    "            self.distance=new_distance\n",
    "            return self.rew(\"movefar\"),self.state,False,self.score\n",
    "        else:\n",
    "            self.distance=new_distance\n",
    "            return self.rew(\"moveclose\"),self.state,False,self.score\n",
    "    def canGo(self,action):\n",
    "        if(self.lastmove==0 and action==1):\n",
    "            return self.lastmove\n",
    "        elif(self.lastmove==1 and action==0):\n",
    "            return self.lastmove\n",
    "        elif(self.lastmove==2 and action==3):\n",
    "            return self.lastmove\n",
    "        elif(self.lastmove==3 and action==2):\n",
    "            return self.lastmove\n",
    "        else :\n",
    "            return action\n",
    "        \n",
    "        \n",
    "        \n",
    "        \n",
    "        \n",
    "   \n",
    "        \n",
    "        "
   ]
  },
  {
   "cell_type": "code",
   "execution_count": 46,
   "metadata": {},
   "outputs": [],
   "source": [
    "env=environement()"
   ]
  },
  {
   "cell_type": "code",
   "execution_count": 47,
   "metadata": {},
   "outputs": [],
   "source": [
    "env.env_init({})"
   ]
  },
  {
   "cell_type": "code",
   "execution_count": 48,
   "metadata": {},
   "outputs": [
    {
     "data": {
      "text/plain": [
       "array([[0., 0., 0., 0., 0., 0., 0., 0., 0., 0.],\n",
       "       [0., 0., 0., 0., 0., 0., 0., 0., 0., 0.],\n",
       "       [0., 0., 0., 0., 0., 0., 0., 0., 0., 0.],\n",
       "       [0., 0., 0., 0., 0., 0., 0., 0., 0., 0.],\n",
       "       [0., 0., 0., 0., 0., 0., 0., 0., 0., 0.],\n",
       "       [0., 0., 0., 0., 0., 2., 5., 0., 0., 0.],\n",
       "       [0., 0., 0., 0., 0., 0., 0., 0., 0., 0.],\n",
       "       [0., 0., 0., 0., 0., 0., 0., 0., 0., 0.],\n",
       "       [0., 0., 0., 0., 0., 0., 0., 0., 0., 0.],\n",
       "       [0., 0., 0., 0., 0., 0., 0., 0., 0., 0.]])"
      ]
     },
     "execution_count": 48,
     "metadata": {},
     "output_type": "execute_result"
    }
   ],
   "source": [
    "env.start()"
   ]
  },
  {
   "cell_type": "code",
   "execution_count": null,
   "metadata": {},
   "outputs": [],
   "source": []
  },
  {
   "cell_type": "code",
   "execution_count": 61,
   "metadata": {},
   "outputs": [
    {
     "data": {
      "text/plain": [
       "(0,\n",
       " array([[0., 0., 5., 0., 0., 0., 0., 0., 0., 0.],\n",
       "        [0., 0., 0., 0., 0., 0., 0., 0., 0., 0.],\n",
       "        [0., 0., 0., 0., 0., 0., 0., 0., 0., 0.],\n",
       "        [0., 0., 0., 0., 0., 0., 0., 0., 0., 0.],\n",
       "        [0., 0., 0., 0., 0., 0., 0., 0., 0., 0.],\n",
       "        [0., 0., 0., 0., 2., 1., 0., 0., 0., 0.],\n",
       "        [0., 0., 0., 0., 0., 0., 0., 0., 0., 0.],\n",
       "        [0., 0., 0., 0., 0., 0., 0., 0., 0., 0.],\n",
       "        [0., 0., 0., 0., 0., 0., 0., 0., 0., 0.],\n",
       "        [0., 0., 0., 0., 0., 0., 0., 0., 0., 0.]]),\n",
       " False,\n",
       " 1)"
      ]
     },
     "execution_count": 61,
     "metadata": {},
     "output_type": "execute_result"
    }
   ],
   "source": [
    "env.step(0\n",
    "         \n",
    "        )"
   ]
  },
  {
   "cell_type": "code",
   "execution_count": null,
   "metadata": {},
   "outputs": [],
   "source": []
  },
  {
   "cell_type": "code",
   "execution_count": null,
   "metadata": {},
   "outputs": [],
   "source": []
  }
 ],
 "metadata": {
  "kernelspec": {
   "display_name": "Python 3",
   "language": "python",
   "name": "python3"
  },
  "language_info": {
   "codemirror_mode": {
    "name": "ipython",
    "version": 3
   },
   "file_extension": ".py",
   "mimetype": "text/x-python",
   "name": "python",
   "nbconvert_exporter": "python",
   "pygments_lexer": "ipython3",
   "version": "3.7.6"
  }
 },
 "nbformat": 4,
 "nbformat_minor": 4
}
