{
 "cells": [
  {
   "cell_type": "code",
   "execution_count": 2,
   "metadata": {},
   "outputs": [],
   "source": [
    "from keras import backend as K\n",
    "from keras.layers import Dense,Input,Conv2D,MaxPool2D,Flatten\n",
    "from keras.optimizers import Adam\n",
    "from keras.models import Model\n",
    "import numpy as np\n",
    "import pydot\n",
    "import tensorflow as tf"
   ]
  },
  {
   "cell_type": "code",
   "execution_count": 3,
   "metadata": {},
   "outputs": [],
   "source": [
    "def softmax(x):\n",
    "    \"\"\"Compute softmax values for each sets of scores in x.\"\"\"\n",
    "    e_x = np.exp(x - np.max(x))\n",
    "    return e_x / e_x.sum()\n",
    "a=[0.9,0.03,0.03,0.03]"
   ]
  },
  {
   "cell_type": "code",
   "execution_count": 4,
   "metadata": {},
   "outputs": [],
   "source": [
    "def create_model_actor(output,shape):\n",
    "\n",
    "    model = tf.keras.models.Sequential([\n",
    "    tf.keras.layers.Conv2D(filters=64,kernel_size=(3,3),strides=(1,1),activation=\"relu\",input_shape=shape),\n",
    "    tf.keras.layers.MaxPool2D(pool_size=(2, 2), strides=(1,1), padding='valid'),\n",
    "    tf.keras.layers.Conv2D(filters=64,kernel_size=(1,1),strides=(1,1),activation=\"relu\"),\n",
    "    tf.keras.layers.MaxPool2D(pool_size=(2, 2), strides=(1,1), padding='valid'),\n",
    "    tf.keras.layers.Flatten(),\n",
    "    tf.keras.layers.Dense(256,activation='relu'),\n",
    "    tf.keras.layers.Dense(output,activation=\"softmax\"),\n",
    "    \n",
    "    ])\n",
    "    adam=tf.keras.optimizers.Adam(\n",
    "        learning_rate=0.00005, beta_1=0.9, beta_2=0.999, epsilon=1e-07, amsgrad=False,\n",
    "        name='Adam')\n",
    "    model.compile(optimizer=adam,\n",
    "              loss=\"categorical_crossentropy\",\n",
    "              metrics=['accuracy'])\n",
    "\n",
    "    return model\n"
   ]
  },
  {
   "cell_type": "code",
   "execution_count": 5,
   "metadata": {},
   "outputs": [],
   "source": [
    "def create_model_critic(shape):\n",
    "\n",
    "    model = tf.keras.models.Sequential([\n",
    "    tf.keras.layers.Conv2D(filters=64,kernel_size=(3,3),strides=(1,1),activation=\"relu\",input_shape=shape),\n",
    "    tf.keras.layers.MaxPool2D(pool_size=(2, 2), strides=(1,1), padding='valid'),\n",
    "    tf.keras.layers.Conv2D(filters=64,kernel_size=(1,1),strides=(1,1),activation=\"relu\"),\n",
    "    tf.keras.layers.MaxPool2D(pool_size=(2, 2), strides=(1,1), padding='valid'),\n",
    "    tf.keras.layers.Flatten(),\n",
    "    tf.keras.layers.Dense(256,activation='relu'),\n",
    "    tf.keras.layers.Dense(1),\n",
    "    \n",
    "    ])\n",
    "    adam=tf.keras.optimizers.Adam(\n",
    "        learning_rate=0.00001, beta_1=0.9, beta_2=0.999, epsilon=1e-07, amsgrad=False,\n",
    "        name='Adam')\n",
    "    loss_fn =tf.keras.losses.MeanSquaredError()\n",
    "    model.compile(optimizer=adam,\n",
    "              loss=loss_fn,\n",
    "              metrics=['accuracy'])\n",
    "\n",
    "    return model\n"
   ]
  },
  {
   "cell_type": "code",
   "execution_count": 19,
   "metadata": {},
   "outputs": [],
   "source": [
    "class a2c():\n",
    "    def __init__(self,info={}):\n",
    "\n",
    "        self.prev_state=None\n",
    "        self.last_action=None\n",
    "        self.gamma=info.get(\"gamma\",0.99)\n",
    "        self.n_actions=info.get(\"n_actions\",4)\n",
    "        self.input_shape=info.get(\"input_shape\",(10,10,1))\n",
    "        self.actor=create_model_actor(self.n_actions,self.input_shape)\n",
    "        self.critic=create_model_critic(self.input_shape)\n",
    "        self.action_space=list(range(self.n_actions))\n",
    "        self.calback=None\n",
    "    def save(self,calback):\n",
    "        self.calback=[calback]\n",
    "    def choose_action(self,state):\n",
    "        probabilities=self.actor(np.array([state]))[0]\n",
    "        if(self.last_action==None):\n",
    "            action=np.random.choice(self.action_space,p= softmax(probabilities))\n",
    "            return action\n",
    "        else:\n",
    "            cant_go=self.Cant_Go()\n",
    "            action=np.random.choice(self.action_space,p= softmax(probabilities))\n",
    "            while action==cant_go:\n",
    "                action=np.random.choice(self.action_space,p= softmax(probabilities))\n",
    "            return action\n",
    "        \n",
    "    def learn(self,reward,state,terminal):\n",
    "        prev_state=self.prev_state[np.newaxis,:]\n",
    "        state=state[np.newaxis,:]\n",
    "        critic_value=self.critic.predict(prev_state)\n",
    "        if(terminal):\n",
    "            critic_value_=np.array([[0.0]])\n",
    "        else:\n",
    "            critic_value_=self.critic.predict(state)\n",
    "        target=reward+self.gamma*critic_value_\n",
    "        delta=target-critic_value\n",
    "        actions=np.zeros([1,self.n_actions])\n",
    "        actions[np.arange(1),self.last_action]=1.0\n",
    "        actions=actions*delta\n",
    "        self.actor.fit(prev_state,actions,verbose=0,callbacks=self.calback)\n",
    "        self.critic.fit(prev_state,target,verbose=0,callbacks=self.calback)\n",
    "        \n",
    "        \n",
    "    def start(self,state):\n",
    "        current_action=self.choose_action(state)\n",
    "        self.prev_state=state\n",
    "        self.last_action=current_action\n",
    "        return self.last_action\n",
    "    def step(self,reward,state):\n",
    "        current_action=self.choose_action(state)\n",
    "        self.learn(reward,state,False)\n",
    "        tf.keras.backend.clear_session()\n",
    "        self.prev_state=state\n",
    "        self.last_action=current_action\n",
    "        return self.last_action\n",
    "    def end(self,reward):\n",
    "        self.learn(reward,self.prev_state,True)\n",
    "        self.last_action=None\n",
    "    def Cant_Go(self):\n",
    "        if self.last_action==0:\n",
    "            return 1\n",
    "        if self.last_action==1:\n",
    "            return 0\n",
    "        if self.last_action==2:\n",
    "            return 3\n",
    "        if self.last_action==3:\n",
    "            return 2\n",
    "    "
   ]
  },
  {
   "cell_type": "code",
   "execution_count": 31,
   "metadata": {},
   "outputs": [],
   "source": []
  },
  {
   "cell_type": "code",
   "execution_count": 32,
   "metadata": {},
   "outputs": [
    {
     "data": {
      "text/plain": [
       "0"
      ]
     },
     "execution_count": 32,
     "metadata": {},
     "output_type": "execute_result"
    }
   ],
   "source": []
  },
  {
   "cell_type": "code",
   "execution_count": 43,
   "metadata": {},
   "outputs": [
    {
     "data": {
      "text/plain": [
       "0"
      ]
     },
     "execution_count": 43,
     "metadata": {},
     "output_type": "execute_result"
    }
   ],
   "source": []
  },
  {
   "cell_type": "code",
   "execution_count": null,
   "metadata": {},
   "outputs": [],
   "source": []
  },
  {
   "cell_type": "code",
   "execution_count": null,
   "metadata": {},
   "outputs": [],
   "source": []
  },
  {
   "cell_type": "code",
   "execution_count": null,
   "metadata": {},
   "outputs": [],
   "source": []
  },
  {
   "cell_type": "code",
   "execution_count": null,
   "metadata": {},
   "outputs": [],
   "source": []
  },
  {
   "cell_type": "code",
   "execution_count": null,
   "metadata": {},
   "outputs": [],
   "source": []
  },
  {
   "cell_type": "code",
   "execution_count": null,
   "metadata": {},
   "outputs": [],
   "source": []
  },
  {
   "cell_type": "code",
   "execution_count": null,
   "metadata": {},
   "outputs": [],
   "source": []
  }
 ],
 "metadata": {
  "kernelspec": {
   "display_name": "Python 3",
   "language": "python",
   "name": "python3"
  },
  "language_info": {
   "codemirror_mode": {
    "name": "ipython",
    "version": 3
   },
   "file_extension": ".py",
   "mimetype": "text/x-python",
   "name": "python",
   "nbconvert_exporter": "python",
   "pygments_lexer": "ipython3",
   "version": "3.7.6"
  }
 },
 "nbformat": 4,
 "nbformat_minor": 4
}
